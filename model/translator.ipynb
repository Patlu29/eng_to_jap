{
  "cells": [
    {
      "cell_type": "code",
      "source": [
        "# from transformers import MarianMTModel, MarianTokenizer\n",
        "\n",
        "# model_name = \"Patlu29/eng-jap_trans\"\n",
        "# model = MarianMTModel.from_pretrained(model_name)\n",
        "# tokenizer = MarianTokenizer.from_pretrained(model_name)\n"
      ],
      "metadata": {
        "id": "5f7xkIoyI1fs"
      },
      "execution_count": 12,
      "outputs": []
    },
    {
      "cell_type": "code",
      "source": [
        "# # Test the model\n",
        "# sentence = str(input(\"Enter a sentence: \"))\n",
        "# inputs = tokenizer(sentence, return_tensors=\"pt\", padding=True, truncation=True)\n",
        "# outputs = model.generate(**inputs)\n",
        "# print(tokenizer.decode(outputs[0], skip_special_tokens=True))"
      ],
      "metadata": {
        "id": "tkGZ-A5dIxtG"
      },
      "execution_count": 13,
      "outputs": []
    },
    {
      "cell_type": "code",
      "source": [
        "!pip install pykakasi\n",
        "!pip install gtts"
      ],
      "metadata": {
        "colab": {
          "base_uri": "https://localhost:8080/"
        },
        "id": "EhYUHQ_WKXLy",
        "outputId": "b093f73c-864e-47fc-9dc5-6257e894e47d"
      },
      "execution_count": 14,
      "outputs": [
        {
          "output_type": "stream",
          "name": "stdout",
          "text": [
            "Requirement already satisfied: pykakasi in /usr/local/lib/python3.11/dist-packages (2.3.0)\n",
            "Requirement already satisfied: jaconv in /usr/local/lib/python3.11/dist-packages (from pykakasi) (0.4.0)\n",
            "Requirement already satisfied: deprecated in /usr/local/lib/python3.11/dist-packages (from pykakasi) (1.2.15)\n",
            "Requirement already satisfied: wrapt<2,>=1.10 in /usr/local/lib/python3.11/dist-packages (from deprecated->pykakasi) (1.17.2)\n",
            "Requirement already satisfied: gtts in /usr/local/lib/python3.11/dist-packages (2.5.4)\n",
            "Requirement already satisfied: requests<3,>=2.27 in /usr/local/lib/python3.11/dist-packages (from gtts) (2.32.3)\n",
            "Requirement already satisfied: click<8.2,>=7.1 in /usr/local/lib/python3.11/dist-packages (from gtts) (8.1.8)\n",
            "Requirement already satisfied: charset-normalizer<4,>=2 in /usr/local/lib/python3.11/dist-packages (from requests<3,>=2.27->gtts) (3.4.1)\n",
            "Requirement already satisfied: idna<4,>=2.5 in /usr/local/lib/python3.11/dist-packages (from requests<3,>=2.27->gtts) (3.10)\n",
            "Requirement already satisfied: urllib3<3,>=1.21.1 in /usr/local/lib/python3.11/dist-packages (from requests<3,>=2.27->gtts) (2.3.0)\n",
            "Requirement already satisfied: certifi>=2017.4.17 in /usr/local/lib/python3.11/dist-packages (from requests<3,>=2.27->gtts) (2024.12.14)\n"
          ]
        }
      ]
    },
    {
      "cell_type": "code",
      "source": [
        "from transformers import MarianMTModel, MarianTokenizer\n",
        "import pykakasi  # Import the pykakasi library for transliteration\n",
        "\n",
        "# Load the pre-trained model and tokenizer\n",
        "model_name = \"Patlu29/eng-jap_trans\"\n",
        "model = MarianMTModel.from_pretrained(model_name)\n",
        "tokenizer = MarianTokenizer.from_pretrained(model_name)\n",
        "\n",
        "# Initialize pykakasi for Romanji conversion\n",
        "kakasi = pykakasi.kakasi()\n",
        "kakasi.setMode(\"H\", \"a\")  # Hiragana to ascii\n",
        "kakasi.setMode(\"K\", \"a\")  # Katakana to ascii\n",
        "kakasi.setMode(\"J\", \"a\")  # Kanji to ascii\n",
        "kakasi.setMode(\"s\", True)  # Enable word separation (wakati mode)\n",
        "converter = kakasi.getConverter()\n"
      ],
      "metadata": {
        "colab": {
          "base_uri": "https://localhost:8080/"
        },
        "id": "BPY75i3iJLF_",
        "outputId": "6a63f1e9-2ba6-406c-a8aa-bd90b37b938d"
      },
      "execution_count": 15,
      "outputs": [
        {
          "output_type": "stream",
          "name": "stderr",
          "text": [
            "/usr/local/lib/python3.11/dist-packages/transformers/models/marian/tokenization_marian.py:175: UserWarning: Recommended: pip install sacremoses.\n",
            "  warnings.warn(\"Recommended: pip install sacremoses.\")\n",
            "<ipython-input-15-70764435aa0a>:11: DeprecationWarning: Call to deprecated method setMode. (Old API will be removed in v3.0.) -- Deprecated since version 2.1.\n",
            "  kakasi.setMode(\"H\", \"a\")  # Hiragana to ascii\n",
            "<ipython-input-15-70764435aa0a>:12: DeprecationWarning: Call to deprecated method setMode. (Old API will be removed in v3.0.) -- Deprecated since version 2.1.\n",
            "  kakasi.setMode(\"K\", \"a\")  # Katakana to ascii\n",
            "<ipython-input-15-70764435aa0a>:13: DeprecationWarning: Call to deprecated method setMode. (Old API will be removed in v3.0.) -- Deprecated since version 2.1.\n",
            "  kakasi.setMode(\"J\", \"a\")  # Kanji to ascii\n",
            "<ipython-input-15-70764435aa0a>:14: DeprecationWarning: Call to deprecated method setMode. (Old API will be removed in v3.0.) -- Deprecated since version 2.1.\n",
            "  kakasi.setMode(\"s\", True)  # Enable word separation (wakati mode)\n",
            "<ipython-input-15-70764435aa0a>:15: DeprecationWarning: Call to deprecated method getConverter. (Old API will be removed in v3.0.) -- Deprecated since version 2.1.\n",
            "  converter = kakasi.getConverter()\n"
          ]
        }
      ]
    },
    {
      "cell_type": "code",
      "source": [
        "# Test the model\n",
        "sentence = str(input(\"Enter a sentence in English: \")).lower()\n",
        "inputs = tokenizer(sentence, return_tensors=\"pt\", padding=True, truncation=True)\n",
        "outputs = model.generate(**inputs)\n",
        "\n",
        "# Decode the Japanese output\n",
        "japanese_output = tokenizer.decode(outputs[0], skip_special_tokens=True)\n",
        "print(\"Japanese Output:\", japanese_output)\n",
        "\n",
        "# Convert Japanese output to Romanji with spaces\n",
        "romanji_output = converter.do(japanese_output)\n",
        "print(\"Romanji Output with Spaces:\", romanji_output)"
      ],
      "metadata": {
        "colab": {
          "base_uri": "https://localhost:8080/"
        },
        "id": "FVQWtahuKVq7",
        "outputId": "64736941-855a-4e32-b6af-5000e9f323e0"
      },
      "execution_count": 16,
      "outputs": [
        {
          "output_type": "stream",
          "name": "stdout",
          "text": [
            "Enter a sentence in English: i think it took so long \n",
            "Japanese Output: 私は長くかかった。\n",
            "Romanji Output with Spaces: watashi ha nagaku kakatta。\n"
          ]
        },
        {
          "output_type": "stream",
          "name": "stderr",
          "text": [
            "<ipython-input-16-557c7dc800e0>:11: DeprecationWarning: Call to deprecated method do. (Old API will be removed in v3.0.) -- Deprecated since version 2.1.\n",
            "  romanji_output = converter.do(japanese_output)\n"
          ]
        }
      ]
    },
    {
      "cell_type": "code",
      "source": [
        "from gtts import gTTS  # For converting Romanji to audio\n",
        "import os  # To play the audio file\n",
        "\n",
        "# Convert Romanji to audio\n",
        "tts = gTTS(text=romanji_output, lang=\"ja\")  # Use \"ja\" for Japanese pronunciation\n",
        "audio_file = \"output.mp3\"\n",
        "tts.save(audio_file)\n",
        "\n",
        "# Play the audio\n",
        "print(\"Playing the audio...\")\n",
        "os.system(f\"start {audio_file}\" if os.name == \"nt\" else f\"xdg-open {audio_file}\")"
      ],
      "metadata": {
        "colab": {
          "base_uri": "https://localhost:8080/"
        },
        "id": "s7_ZLrxcQd5F",
        "outputId": "4b9c47fa-99e9-44d9-efae-3647c918beb7"
      },
      "execution_count": 17,
      "outputs": [
        {
          "output_type": "stream",
          "name": "stdout",
          "text": [
            "Playing the audio...\n"
          ]
        },
        {
          "output_type": "execute_result",
          "data": {
            "text/plain": [
              "768"
            ]
          },
          "metadata": {},
          "execution_count": 17
        }
      ]
    },
    {
      "cell_type": "code",
      "source": [],
      "metadata": {
        "id": "wTDjKngDQv3P"
      },
      "execution_count": 17,
      "outputs": []
    }
  ],
  "metadata": {
    "kernelspec": {
      "display_name": "Python 3",
      "name": "python3"
    },
    "language_info": {
      "codemirror_mode": {
        "name": "ipython",
        "version": 3
      },
      "file_extension": ".py",
      "mimetype": "text/x-python",
      "name": "python",
      "nbconvert_exporter": "python",
      "pygments_lexer": "ipython3",
      "version": "3.12.8"
    },
    "colab": {
      "provenance": [],
      "gpuType": "T4"
    },
    "accelerator": "GPU"
  },
  "nbformat": 4,
  "nbformat_minor": 0
}